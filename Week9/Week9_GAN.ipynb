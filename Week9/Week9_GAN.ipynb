{
 "cells": [
  {
   "cell_type": "markdown",
   "metadata": {
    "colab_type": "text",
    "id": "view-in-github"
   },
   "source": [
    "<a href=\"https://colab.research.google.com/github/nichol77/mlForPhysicists/blob/master/Week9/Week9_GAN.ipynb\" target=\"_parent\"><img src=\"https://colab.research.google.com/assets/colab-badge.svg\" alt=\"Open In Colab\"/></a>"
   ]
  },
  {
   "cell_type": "markdown",
   "metadata": {
    "id": "I0mGs2zA6kBm"
   },
   "source": [
    "# Practical Machine Learning for Physicsists\n",
    "\n",
    "## Generative Adversarial Networks\n",
    "\n",
    "In this notebook we will introduce you to generative adversarial networks. In the time honoured tradition we will do this through the MNIST dataset (our favourite toy dataset).\n",
    "\n",
    "This notebook is heavily inspired by the [TensorFlow tutorial on Deep Convolutional Generative Adversarial Networks.](https://www.tensorflow.org/tutorials/generative/dcgan). The code is basically the same as in the turorial although the commentary is slightly different. "
   ]
  },
  {
   "cell_type": "code",
   "execution_count": 1,
   "metadata": {
    "colab": {
     "base_uri": "https://localhost:8080/"
    },
    "id": "lBqSSpEW6kBm",
    "outputId": "020f5760-014a-43e0-b2f0-e14cb18a2d82"
   },
   "outputs": [
    {
     "name": "stdout",
     "output_type": "stream",
     "text": [
      "2.3.1\n"
     ]
    }
   ],
   "source": [
    "import matplotlib.pyplot as plt\n",
    "import numpy as np\n",
    "import math\n",
    "\n",
    "# TensorFlow and tf.keras\n",
    "import tensorflow as tf\n",
    "from tensorflow import keras\n",
    "\n",
    "import matplotlib.style #Some style nonsense\n",
    "import matplotlib as mpl #Some more style nonsense\n",
    "\n",
    "import glob\n",
    "import imageio\n",
    "import os\n",
    "import PIL\n",
    "import time\n",
    "\n",
    "from IPython import display\n",
    "\n",
    "#Set default figure size\n",
    "#mpl.rcParams['figure.figsize'] = [12.0, 8.0] #Inches... of course it is inches\n",
    "mpl.rcParams[\"legend.frameon\"] = False\n",
    "mpl.rcParams['figure.dpi']=200 # dots per inch\n",
    "\n",
    "#Useful for debugging problems\n",
    "print(tf.__version__)"
   ]
  },
  {
   "cell_type": "markdown",
   "metadata": {
    "id": "6sidlmdh6kBn"
   },
   "source": [
    "## Step 1: Load and prepare the data\n",
    "We first load and normalise the MINST handwritten digits dataset. Then we shuffle and batch up the dataset for easier digestion by TensorFlow.\n",
    "\n",
    "Note that we are only using the training portion of the dataset, the testing portion isn't needed."
   ]
  },
  {
   "cell_type": "code",
   "execution_count": 2,
   "metadata": {
    "id": "6LJA0uBQ6kBn"
   },
   "outputs": [],
   "source": [
    "# Load the data\n",
    "mnist = keras.datasets.mnist   #The original handwritten digit MNIST\n",
    "#mnist = keras.datasets.fashion_mnist   #A tricky version that uses images of fashion items\n",
    "(train_images, train_labels), (_, _) = mnist.load_data()\n",
    "\n",
    "# Reshape the data\n",
    "train_images = train_images.reshape(train_images.shape[0], 28, 28, 1).astype('float32')\n",
    "train_images = (train_images - 127.5) / 127.5 # Normalize the images to [-1, 1]\n"
   ]
  },
  {
   "cell_type": "code",
   "execution_count": 3,
   "metadata": {
    "id": "DqtyJYf86kBn"
   },
   "outputs": [],
   "source": [
    "# Example of tf dataset\n",
    "BUFFER_SIZE = 60000\n",
    "BATCH_SIZE = 256\n",
    "NOISE_LENGTH = 100\n",
    "# Batch and shuffle the data\n",
    "train_dataset = tf.data.Dataset.from_tensor_slices(train_images).shuffle(BUFFER_SIZE).batch(BATCH_SIZE)"
   ]
  },
  {
   "cell_type": "markdown",
   "metadata": {
    "id": "lGarHr8y6kBn"
   },
   "source": [
    "## Step 2: Create our generator model\n",
    "The generator model will try and turn random numbers into handwritten digit images. It will do this through a series of deconvolution and normalisation layers.\n",
    "- [`tf.keras.layers.Conv2DTranspose`](https://www.tensorflow.org/api_docs/python/tf/keras/layers/Conv2DTranspose) a transposed convolution layer (i.e. deconvolution)\n",
    "- [`tf.keras.layers.BatchNormalization`](https://www.tensorflow.org/api_docs/python/tf/keras/layers/BatchNormalization) normalize and scale inputs and activations by subtracting the mean and dividing by the standard deviation\n",
    "- [`tf.keras.layers.LeakyReLU`](https://www.tensorflow.org/api_docs/python/tf/keras/layers/LeakyReLU) a leaky version of ReLU, leaky means that for $x<0$ there is a small (i.e. non-zero) gradient\n",
    "\n"
   ]
  },
  {
   "cell_type": "code",
   "execution_count": 4,
   "metadata": {
    "id": "0quu5cGP6kBn"
   },
   "outputs": [],
   "source": [
    "def make_generator_model():\n",
    "    model = tf.keras.Sequential()\n",
    "    model.add(tf.keras.layers.Dense(7*7*256, use_bias=False, input_shape=(NOISE_LENGTH,)))\n",
    "    model.add(tf.keras.layers.BatchNormalization())\n",
    "    model.add(tf.keras.layers.LeakyReLU())\n",
    "\n",
    "    model.add(tf.keras.layers.Reshape((7, 7, 256)))\n",
    "    assert model.output_shape == (None, 7, 7, 256) # Note: None is the batch size\n",
    "\n",
    "    model.add(tf.keras.layers.Conv2DTranspose(128, (5, 5), strides=(1, 1), padding='same', use_bias=False))\n",
    "    assert model.output_shape == (None, 7, 7, 128)\n",
    "    model.add(tf.keras.layers.BatchNormalization())\n",
    "    model.add(tf.keras.layers.LeakyReLU())\n",
    "\n",
    "    model.add(tf.keras.layers.Conv2DTranspose(64, (5, 5), strides=(2, 2), padding='same', use_bias=False))\n",
    "    assert model.output_shape == (None, 14, 14, 64)\n",
    "    model.add(tf.keras.layers.BatchNormalization())\n",
    "    model.add(tf.keras.layers.LeakyReLU())\n",
    "\n",
    "    model.add(tf.keras.layers.Conv2DTranspose(1, (5, 5), strides=(2, 2), padding='same', use_bias=False, activation='tanh'))\n",
    "    assert model.output_shape == (None, 28, 28, 1)\n",
    "\n",
    "    return model"
   ]
  },
  {
   "cell_type": "code",
   "execution_count": 5,
   "metadata": {
    "colab": {
     "base_uri": "https://localhost:8080/"
    },
    "id": "J3CuTu2Z6kBn",
    "outputId": "8a30dc7b-d38e-4768-c8f6-00c1562dcde5"
   },
   "outputs": [
    {
     "name": "stdout",
     "output_type": "stream",
     "text": [
      "Model: \"sequential\"\n",
      "_________________________________________________________________\n",
      "Layer (type)                 Output Shape              Param #   \n",
      "=================================================================\n",
      "dense (Dense)                (None, 12544)             1254400   \n",
      "_________________________________________________________________\n",
      "batch_normalization (BatchNo (None, 12544)             50176     \n",
      "_________________________________________________________________\n",
      "leaky_re_lu (LeakyReLU)      (None, 12544)             0         \n",
      "_________________________________________________________________\n",
      "reshape (Reshape)            (None, 7, 7, 256)         0         \n",
      "_________________________________________________________________\n",
      "conv2d_transpose (Conv2DTran (None, 7, 7, 128)         819200    \n",
      "_________________________________________________________________\n",
      "batch_normalization_1 (Batch (None, 7, 7, 128)         512       \n",
      "_________________________________________________________________\n",
      "leaky_re_lu_1 (LeakyReLU)    (None, 7, 7, 128)         0         \n",
      "_________________________________________________________________\n",
      "conv2d_transpose_1 (Conv2DTr (None, 14, 14, 64)        204800    \n",
      "_________________________________________________________________\n",
      "batch_normalization_2 (Batch (None, 14, 14, 64)        256       \n",
      "_________________________________________________________________\n",
      "leaky_re_lu_2 (LeakyReLU)    (None, 14, 14, 64)        0         \n",
      "_________________________________________________________________\n",
      "conv2d_transpose_2 (Conv2DTr (None, 28, 28, 1)         1600      \n",
      "=================================================================\n",
      "Total params: 2,330,944\n",
      "Trainable params: 2,305,472\n",
      "Non-trainable params: 25,472\n",
      "_________________________________________________________________\n"
     ]
    }
   ],
   "source": [
    "generator=make_generator_model()\n",
    "generator.summary()"
   ]
  },
  {
   "cell_type": "code",
   "execution_count": 6,
   "metadata": {
    "colab": {
     "base_uri": "https://localhost:8080/",
     "height": 785
    },
    "id": "Mwn-p6fN6kBn",
    "outputId": "fe604fa4-d618-4e12-ce2b-ee6568e643a1"
   },
   "outputs": [
    {
     "name": "stdout",
     "output_type": "stream",
     "text": [
      "(1, 28, 28, 1)\n"
     ]
    },
    {
     "data": {
      "text/plain": [
       "Text(0.5, 1.0, 'Generator before training')"
      ]
     },
     "execution_count": 6,
     "metadata": {},
     "output_type": "execute_result"
    },
    {
     "data": {
      "image/png": "[encoded data removed]",
      "text/plain": [
       "<Figure size 1200x800 with 1 Axes>"
      ]
     },
     "metadata": {
      "needs_background": "light"
     },
     "output_type": "display_data"
    }
   ],
   "source": [
    "input=tf.random.normal([1,NOISE_LENGTH])\n",
    "generated_image = generator(input, training=False)\n",
    "print(generated_image.shape)\n",
    "\n",
    "fig,ax = plt.subplots()\n",
    "ax.imshow(generated_image[0,:,:,0],cmap='binary')\n",
    "ax.set_title(\"Generator before training\")\n"
   ]
  },
  {
   "cell_type": "markdown",
   "metadata": {
    "id": "1hgkKXdz6kBo"
   },
   "source": [
    "## Step 3: Make discriminator model\n",
    "The discriminator model is going to be the standard Convolutional neural network."
   ]
  },
  {
   "cell_type": "code",
   "execution_count": 7,
   "metadata": {
    "id": "MJ4DJzA26kBo"
   },
   "outputs": [],
   "source": [
    "def make_discriminator_model():\n",
    "    model = tf.keras.Sequential()\n",
    "    model.add(tf.keras.layers.Conv2D(64, (5, 5), strides=(2, 2), padding='same',\n",
    "                                     input_shape=[28, 28, 1]))\n",
    "    model.add(tf.keras.layers.LeakyReLU())\n",
    "    model.add(tf.keras.layers.Dropout(0.3))\n",
    "\n",
    "    model.add(tf.keras.layers.Conv2D(128, (5, 5), strides=(2, 2), padding='same'))\n",
    "    model.add(tf.keras.layers.LeakyReLU())\n",
    "    model.add(tf.keras.layers.Dropout(0.3))\n",
    "\n",
    "    model.add(tf.keras.layers.Flatten())\n",
    "    model.add(tf.keras.layers.Dense(1))\n",
    "\n",
    "    return model"
   ]
  },
  {
   "cell_type": "markdown",
   "metadata": {
    "id": "zLQ-tY0E6kBo"
   },
   "source": [
    "The discriminator is used to classify images as real or fake. The model will be trained to output positive values for real images, and negative values for fake images."
   ]
  },
  {
   "cell_type": "code",
   "execution_count": 8,
   "metadata": {
    "colab": {
     "base_uri": "https://localhost:8080/"
    },
    "id": "CLsHifr66kBo",
    "outputId": "d7043611-9cbd-48d9-9580-be845fba759b"
   },
   "outputs": [
    {
     "name": "stdout",
     "output_type": "stream",
     "text": [
      "Model: \"sequential_1\"\n",
      "_________________________________________________________________\n",
      "Layer (type)                 Output Shape              Param #   \n",
      "=================================================================\n",
      "conv2d (Conv2D)              (None, 14, 14, 64)        1664      \n",
      "_________________________________________________________________\n",
      "leaky_re_lu_3 (LeakyReLU)    (None, 14, 14, 64)        0         \n",
      "_________________________________________________________________\n",
      "dropout (Dropout)            (None, 14, 14, 64)        0         \n",
      "_________________________________________________________________\n",
      "conv2d_1 (Conv2D)            (None, 7, 7, 128)         204928    \n",
      "_________________________________________________________________\n",
      "leaky_re_lu_4 (LeakyReLU)    (None, 7, 7, 128)         0         \n",
      "_________________________________________________________________\n",
      "dropout_1 (Dropout)          (None, 7, 7, 128)         0         \n",
      "_________________________________________________________________\n",
      "flatten (Flatten)            (None, 6272)              0         \n",
      "_________________________________________________________________\n",
      "dense_1 (Dense)              (None, 1)                 6273      \n",
      "=================================================================\n",
      "Total params: 212,865\n",
      "Trainable params: 212,865\n",
      "Non-trainable params: 0\n",
      "_________________________________________________________________\n",
      "The decision on noise images: tf.Tensor([[0.00036394]], shape=(1, 1), dtype=float32)\n"
     ]
    }
   ],
   "source": [
    "discriminator = make_discriminator_model()\n",
    "discriminator.summary()\n",
    "decision = discriminator(generated_image)\n",
    "print (\"The decision on noise images:\",decision)"
   ]
  },
  {
   "cell_type": "markdown",
   "metadata": {
    "id": "hRnLpsvT6kBo"
   },
   "source": [
    "## Step 4: Define the loss\n",
    "Now we define the loss, separately for both the discriminator and the generator."
   ]
  },
  {
   "cell_type": "code",
   "execution_count": 9,
   "metadata": {
    "id": "zmqVe1ih6kBo"
   },
   "outputs": [],
   "source": [
    "# This method returns a helper function to compute cross entropy loss\n",
    "cross_entropy = tf.keras.losses.BinaryCrossentropy(from_logits=True)"
   ]
  },
  {
   "cell_type": "markdown",
   "metadata": {
    "id": "r7s0AJak6kBo"
   },
   "source": [
    "### Discriminator loss\n",
    "The discriminator loss is the measure of how well the discriminator can distinguish real images from fake images. So:\n",
    "- The loss for real images is computed by comparing the discriminator output on real images against an array of 1's\n",
    "- The loss for fake images is computed by comparing the discriminator output on fake images against an array of 0's"
   ]
  },
  {
   "cell_type": "code",
   "execution_count": 10,
   "metadata": {
    "id": "pgzzsPc-6kBo"
   },
   "outputs": [],
   "source": [
    "def discriminator_loss(real_output, fake_output):\n",
    "    return cross_entropy(tf.ones_like(real_output),real_output) + cross_entropy(tf.zeros_like(fake_output),fake_output)"
   ]
  },
  {
   "cell_type": "markdown",
   "metadata": {
    "id": "LQw29o8K6kBo"
   },
   "source": [
    "### Generator loss\n",
    "The generator loss is the measure of well the generator can fool the discriminator into thinking that fake images are real. So\n",
    "- The loss is computed by comparing the discriminator output on fake images against an array of 1's"
   ]
  },
  {
   "cell_type": "code",
   "execution_count": 11,
   "metadata": {
    "id": "BgEvkrxI6kBo"
   },
   "outputs": [],
   "source": [
    "def generator_loss(fake_output):\n",
    "    return cross_entropy(tf.ones_like(fake_output),fake_output)"
   ]
  },
  {
   "cell_type": "markdown",
   "metadata": {
    "id": "Nyl5PlCs6kBo"
   },
   "source": [
    "# Step 5: Define the optimisers\n",
    "We will just use Adam"
   ]
  },
  {
   "cell_type": "code",
   "execution_count": 12,
   "metadata": {
    "id": "lxP4BDgA6kBo"
   },
   "outputs": [],
   "source": [
    "gen_optimiser=tf.keras.optimizers.Adam(1e-4)\n",
    "dis_optimiser=tf.keras.optimizers.Adam(1e-4)"
   ]
  },
  {
   "cell_type": "markdown",
   "metadata": {
    "id": "nCsStvEi6kBo"
   },
   "source": [
    "# Step 6: Use checkpoints to save progress during training\n",
    "As we scale to bigger models that take longer to train it makes sense to start thinking about how we can save the results of our training for later use. If we save during the training then this can also help if our training becomes interuppted."
   ]
  },
  {
   "cell_type": "code",
   "execution_count": 13,
   "metadata": {
    "id": "cXeEToJT6kBo"
   },
   "outputs": [],
   "source": [
    "import os\n",
    "checkpoint_dir = './training_checkpoints'\n",
    "checkpoint_prefix = os.path.join(checkpoint_dir, \"ckpt\")\n",
    "checkpoint = tf.train.Checkpoint(generator_optimizer=gen_optimiser,\n",
    "                                 discriminator_optimizer=dis_optimiser,\n",
    "                                 generator=generator,\n",
    "                                 discriminator=discriminator)"
   ]
  },
  {
   "cell_type": "markdown",
   "metadata": {
    "id": "9lnGRrnZ6kBo"
   },
   "source": [
    "# Step 7: Define the training loop\n",
    "\n",
    "The training loop should be something like:\n",
    "1. Loop over epochs\n",
    "    2. Loop over `BATCH_SIZE` batches of real images in training dataset\n",
    "        1. Get `BATCH_SIZE` * `NOISE_LENGTH` random numbers\n",
    "        2. Generate `BATCH_SIZE` fake images\n",
    "        3. Run the discriminator over the real images\n",
    "        4. Run the discrimnator over the fake images\n",
    "        5. Compute the discriminator loss\n",
    "        6. Compute the generator loss\n",
    "        7. Get the gradients\n",
    "        8. Update using the optimisers\n",
    "\n",
    "Below we will use two forms of TensorFlow magic optimisation:\n",
    "- [`@tf.function`](https://www.tensorflow.org/api_docs/python/tf/function) - 'compiles' the code for faster operation\n",
    "- [`tf.GradientTape`](https://www.tensorflow.org/api_docs/python/tf/GradientTape) - Used to record operations for automatic differentiation  (look at the documentation link for further details)"
   ]
  },
  {
   "cell_type": "code",
   "execution_count": 14,
   "metadata": {
    "id": "xUxOjKWU6kBo"
   },
   "outputs": [],
   "source": [
    "EPOCHS = 50\n",
    "num_examples_to_generate = 16\n",
    "\n",
    "# We will reuse this seed overtime (so it's easier)\n",
    "# to visualize progress in the animated GIF)\n",
    "test_seed = tf.random.normal([num_examples_to_generate, NOISE_LENGTH])\n",
    "\n",
    "gen_loss_array=np.zeros(EPOCHS)\n",
    "disc_loss_array=np.zeros(EPOCHS)\n",
    "gen_loss_err=np.zeros(EPOCHS)\n",
    "disc_loss_err=np.zeros(EPOCHS)"
   ]
  },
  {
   "cell_type": "code",
   "execution_count": 15,
   "metadata": {
    "id": "4NGGJLAk6kBo"
   },
   "outputs": [],
   "source": [
    "# Notice the use of `tf.function`\n",
    "# This annotation causes the function to be \"compiled\".\n",
    "@tf.function\n",
    "def train_step(images):\n",
    "    noise = tf.random.normal([BATCH_SIZE, NOISE_LENGTH])\n",
    "\n",
    "    with tf.GradientTape() as gen_tape, tf.GradientTape() as disc_tape:\n",
    "        generated_images = generator(noise, training=True)\n",
    "\n",
    "        real_output = discriminator(images, training=True)\n",
    "        fake_output = discriminator(generated_images, training=True)\n",
    "\n",
    "        gen_loss = generator_loss(fake_output)\n",
    "        disc_loss = discriminator_loss(real_output, fake_output)\n",
    "\n",
    "    gradients_of_generator = gen_tape.gradient(gen_loss, generator.trainable_variables)\n",
    "    gradients_of_discriminator = disc_tape.gradient(disc_loss, discriminator.trainable_variables)\n",
    "\n",
    "    gen_optimiser.apply_gradients(zip(gradients_of_generator, generator.trainable_variables))\n",
    "    dis_optimiser.apply_gradients(zip(gradients_of_discriminator, discriminator.trainable_variables))\n",
    "    return gen_loss,disc_loss"
   ]
  },
  {
   "cell_type": "code",
   "execution_count": 16,
   "metadata": {
    "id": "5gUUzPco6kBo"
   },
   "outputs": [],
   "source": [
    "def train(dataset, epochs):\n",
    "    for epoch in range(epochs):\n",
    "        start = time.time()\n",
    "        \n",
    "        N=len(dataset)\n",
    "        gloss=np.zeros(N)\n",
    "        dloss=np.zeros(N)\n",
    "        i=0\n",
    "        for image_batch in dataset:\n",
    "            gl,dl=train_step(image_batch)\n",
    "            gloss[i]=gl\n",
    "            dloss[i]=dl\n",
    "            i+=1\n",
    "\n",
    "        gen_loss_array[epoch]=np.mean(gloss)\n",
    "        disc_loss_array[epoch]=np.mean(dloss)\n",
    "        gen_loss_err[epoch]=np.std(gloss)\n",
    "        disc_loss_err[epoch]=np.std(dloss)\n",
    "\n",
    "        # Produce images for the GIF as we go\n",
    "        display.clear_output(wait=True)\n",
    "        generate_and_save_images(generator,\n",
    "                                 epoch + 1,\n",
    "                                 test_seed)\n",
    "\n",
    "        # Save the model every 15 epochs\n",
    "        if (epoch + 1) % 15 == 0:\n",
    "            checkpoint.save(file_prefix = checkpoint_prefix)\n",
    "\n",
    "        print ('Time for epoch {} is {} sec'.format(epoch + 1, time.time()-start))\n",
    "\n",
    "    # Generate after the final epoch\n",
    "    display.clear_output(wait=True)\n",
    "    generate_and_save_images(generator,\n",
    "                            epochs,\n",
    "                            test_seed)"
   ]
  },
  {
   "cell_type": "markdown",
   "metadata": {
    "id": "JqKq8o3H6kBo"
   },
   "source": [
    "#### Generate and save images to produce an animated gif"
   ]
  },
  {
   "cell_type": "code",
   "execution_count": 17,
   "metadata": {
    "id": "fwSvs1oN6kBo"
   },
   "outputs": [],
   "source": [
    "def generate_and_save_images(model, epoch, test_input):\n",
    "    # Notice `training` is set to False.\n",
    "    # This is so all layers run in inference mode (batchnorm).\n",
    "    predictions = model(test_input, training=False)\n",
    "\n",
    "    fig = plt.figure(figsize=(4,4))\n",
    "\n",
    "    for i in range(predictions.shape[0]):\n",
    "        plt.subplot(4, 4, i+1)\n",
    "        plt.imshow(predictions[i, :, :, 0] * 127.5 + 127.5, cmap='gray')\n",
    "        plt.axis('off')\n",
    "\n",
    "    plt.savefig('image_at_epoch_{:04d}.png'.format(epoch))\n",
    "    plt.show()"
   ]
  },
  {
   "cell_type": "markdown",
   "metadata": {
    "id": "CBX88ZfC6kBo"
   },
   "source": [
    "# Step 8: Do the training\n",
    "Now that we have set up all the training loops we can try and train our networks. Training GANs is challenging. As the two networks battle against each other it is important that they learn at a similar rate, if one gets on top too early than neither will learn efficiently.\n",
    "\n",
    "This step is slow, on my (not so good) laptop it takes almost three minutes per epoch. Running on Google Colab without GPUs the it was over 10 minutes per epoch. But running on Google Colab with [GPUs enabled](https://colab.research.google.com/notebooks/gpu.ipynb) it took about 12 seconds per epoch. A speedup of almost a factor of 60! Of course your mileage may vary, or you may have access to local GPU resources."
   ]
  },
  {
   "cell_type": "code",
   "execution_count": null,
   "metadata": {
    "colab": {
     "base_uri": "https://localhost:8080/",
     "height": 661
    },
    "id": "_YM745dm6kBo",
    "outputId": "e80addbd-463f-4595-92fd-7b07fcc80fbd"
   },
   "outputs": [
    {
     "data": {
      "image/png": "[encoded data removed]",
      "text/plain": [
       "<Figure size 800x800 with 16 Axes>"
      ]
     },
     "metadata": {
      "needs_background": "light"
     },
     "output_type": "display_data"
    },
    {
     "name": "stdout",
     "output_type": "stream",
     "text": [
      "Time for epoch 1 is 231.3323118686676 sec\n"
     ]
    }
   ],
   "source": [
    "train(train_dataset, EPOCHS)"
   ]
  },
  {
   "cell_type": "markdown",
   "metadata": {
    "id": "rqrpDX_f6kBo"
   },
   "source": [
    "#### Restore the checkpoint"
   ]
  },
  {
   "cell_type": "code",
   "execution_count": null,
   "metadata": {
    "colab": {
     "base_uri": "https://localhost:8080/"
    },
    "id": "xZmaz3Hc6kBo",
    "outputId": "38d34a5f-fee5-4843-98c2-f2e65e03a62d"
   },
   "outputs": [],
   "source": [
    "checkpoint.restore(tf.train.latest_checkpoint(checkpoint_dir))"
   ]
  },
  {
   "cell_type": "markdown",
   "metadata": {
    "id": "vPm1KY_h6kBo"
   },
   "source": [
    "# Step 9: Make an animated GIF\n"
   ]
  },
  {
   "cell_type": "code",
   "execution_count": null,
   "metadata": {
    "id": "HdJpWVli6kBo"
   },
   "outputs": [],
   "source": [
    "anim_file = 'dcgan.gif'\n",
    "\n",
    "with imageio.get_writer(anim_file, mode='I') as writer:\n",
    "    filenames = glob.glob('image*.png')\n",
    "    filenames = sorted(filenames)\n",
    "    for filename in filenames:\n",
    "        image = imageio.imread(filename)\n",
    "        writer.append_data(image)\n",
    "    image = imageio.imread(filename)\n",
    "    writer.append_data(image)"
   ]
  },
  {
   "cell_type": "markdown",
   "metadata": {
    "id": "ko82Iu_96kBo"
   },
   "source": [
    "# Step 10: Look at the gif\n",
    "There are ways to display the GIF from the python code, or you can just do it using Markdown like I have done here.\n",
    "![Numbers](dcgan.gif \"numbers\")"
   ]
  },
  {
   "cell_type": "code",
   "execution_count": null,
   "metadata": {
    "id": "LHi_7WM36kBo"
   },
   "outputs": [],
   "source": [
    "#Here is an example of the same thing but from the python cell using IPython\n",
    "#from IPython.display import Image\n",
    "#Image(filename=\"dcgan.gif\")"
   ]
  },
  {
   "cell_type": "markdown",
   "metadata": {
    "id": "znx-dDq36kBo"
   },
   "source": [
    "## Step 11: Look at the loss vs epoch training graph\n",
    "It is interesting to realise that our old standby for neural network training success, the plot of loss vs training time, is no longer a useful a source of information. Since at the start neither the discriminator nor the generator knows anything they are evenly matched. As the training develops and the quality of the generation improves, so does the quality of the discrimination. How do you determine success in such a scenario?"
   ]
  },
  {
   "cell_type": "code",
   "execution_count": null,
   "metadata": {
    "colab": {
     "base_uri": "https://localhost:8080/",
     "height": 764
    },
    "id": "F_Bkz9H66kBo",
    "outputId": "3e303c52-f230-4eeb-c9c0-7edc18ef3222"
   },
   "outputs": [],
   "source": [
    "fig,ax=plt.subplots()\n",
    "epochs=np.arange(EPOCHS)\n",
    "ax.errorbar(epochs,gen_loss_array,yerr=gen_loss_err,label=\"Generator Loss\")\n",
    "ax.errorbar(epochs,disc_loss_array,yerr=disc_loss_err,label=\"Discriminator Loss\")\n",
    "ax.set_xlabel(\"Training Epoch\")\n",
    "ax.set_ylabel(\"Loss\")\n",
    "ax.legend()"
   ]
  }
 ],
 "metadata": {
  "accelerator": "GPU",
  "colab": {
   "include_colab_link": true,
   "name": "Week9_GAN.ipynb",
   "provenance": []
  },
  "kernelspec": {
   "display_name": "Python 3",
   "language": "python",
   "name": "python3"
  },
  "language_info": {
   "codemirror_mode": {
    "name": "ipython",
    "version": 3
   },
   "file_extension": ".py",
   "mimetype": "text/x-python",
   "name": "python",
   "nbconvert_exporter": "python",
   "pygments_lexer": "ipython3",
   "version": "3.8.5"
  }
 },
 "nbformat": 4,
 "nbformat_minor": 4
}
